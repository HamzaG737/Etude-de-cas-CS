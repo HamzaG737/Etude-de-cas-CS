{
 "cells": [
  {
   "cell_type": "markdown",
   "metadata": {},
   "source": [
    "## Import librairies \n"
   ]
  },
  {
   "cell_type": "code",
   "execution_count": 50,
   "metadata": {},
   "outputs": [],
   "source": [
    "import pandas as pd \n",
    "import torch\n",
    "import numpy as np\n",
    "from torch.utils.data import TensorDataset, DataLoader\n",
    "import torch.nn as nn\n",
    "import re\n",
    "from torch.autograd import Variable"
   ]
  },
  {
   "cell_type": "markdown",
   "metadata": {},
   "source": [
    "## Load data "
   ]
  },
  {
   "cell_type": "code",
   "execution_count": 30,
   "metadata": {},
   "outputs": [],
   "source": [
    "trainset=pd.read_csv('/home/hamza/projects/filiere/etude_de_cas/data/trainset_sent.csv',lineterminator='\\n')"
   ]
  },
  {
   "cell_type": "code",
   "execution_count": 38,
   "metadata": {},
   "outputs": [
    {
     "name": "stdout",
     "output_type": "stream",
     "text": [
      "Capitalisme tueur\n",
      "++++++++++++++++++++\n",
      "Le secteur agricole africain : les défis à relever |\n",
      "++++++++++++++++++++\n",
      "Revue de presse, suite ... Article de la Gazette du Mantois N°110, où il est question de traitement des déchets ... .\n",
      "++++++++++++++++++++\n",
      "Bourse de 23 000 $ (=droits de scolarité-4 ans) - Bac en développement durable et zone côtière. developpementdurable\n",
      "++++++++++++++++++++\n",
      "alors ce débat sur les éoliennes après la soirée. ;)\n",
      "++++++++++++++++++++\n",
      "biodiversité Les vacanciers invités à nettoyer la nature et devenir des éco-héros\n",
      "++++++++++++++++++++\n",
      "BTP Durable DD Ecologie Exemplarités primées\n",
      "++++++++++++++++++++\n",
      "La Grande Bretagne veut alimenter tous les foyers en énergies renouvelables avec 7000 éoliennes\n",
      "++++++++++++++++++++\n",
      "Les banques s’invitent dans l’écosystème du « crowdfunding », Banque - Assurances\n",
      "++++++++++++++++++++\n",
      "“: Les OGM et la panne de la biodiversité agricolevia ”\n",
      "++++++++++++++++++++\n",
      "Suppression de Ecotaxe : le mot écologie de SegoleneRoyal rime avec démagogie La menace des routiers va coûter plusieurs milliards € merci\n",
      "++++++++++++++++++++\n",
      "Vulcano… vulcano îles éoliennes sicile volcano volcan souffre éruption Aeolian Islands aventure et volcans\n",
      "++++++++++++++++++++\n",
      "La Presse+: Un groupe écologiste s'inquiète du sort des parcs nationaux\n",
      "++++++++++++++++++++\n",
      "A 8h35, je reçois , la ministre de l'Ecologie suretbourdindirect\n",
      "++++++++++++++++++++\n",
      "DirectAN L'UMP \"vouloir échapper à l'impot est un délit pour les écologistes\" hahahaha\n",
      "++++++++++++++++++++\n",
      "t'es la meilleure Laura 💋 tu es tellement drôle et sympas et surtout naturelle! Tu dégage une telle énergie positive! Je t'aime❤\n",
      "++++++++++++++++++++\n",
      "Le vrai impact écologique du Tour de France ►►TDF\n",
      "++++++++++++++++++++\n",
      "Sénatoriales: Véronique Bérégovoy candidate écologiste en Seine-Maritime 76 eelv rouen dieppe lehavre elbeuf\n",
      "++++++++++++++++++++\n",
      "Le gouvernement wallon renonce aux objectifs de production d'énergie renouvelable, \"trop ambitieux et dogmatiques\"\n",
      "++++++++++++++++++++\n",
      "_h voilà. Écologiste tiède.\n",
      "++++++++++++++++++++\n",
      "chatellerault Dans l'ex-usine New Fabris, VMH Énergie a lancé la production de panneaux solairesnouvellerepublique\n",
      "++++++++++++++++++++\n",
      "[VotreEnergie] La rénovation énergétique à l’honneur pour la fête de l’énergie !\n",
      "++++++++++++++++++++\n",
      "Il y a une transition a faire vers les énergies vertes. Ça se fera lentement. Peut être d'ici 2050, mais pas avant.\n",
      "++++++++++++++++++++\n",
      "Scandale des éoliennes : corruption des élus et c… :\n",
      "++++++++++++++++++++\n",
      "Des puits abandonnés inquiètent des écologistes\n",
      "++++++++++++++++++++\n",
      "ecologie Aux Etats-Unis, ils polluent pour le plaisir - et pour emmerder les écolos\n",
      "++++++++++++++++++++\n",
      "trkl avec les éoliennes\n",
      "++++++++++++++++++++\n",
      "Valls espère que les morts du réchauffement climatique seront frondeurs, pour MLP c'est plutôt noirs & beurs actu\n",
      "++++++++++++++++++++\n",
      "DD RSE Exaptation: rendre opérationnel le développement durable dans votre entreprise\n",
      "++++++++++++++++++++\n",
      "Des arbres sur le toit de maisons écologiques au Vietnam.\n",
      "++++++++++++++++++++\n",
      "ecologie Etang-Salé: Le développement durable invité au marché des créateurs\n",
      "++++++++++++++++++++\n",
      "Eolien en mer: baisse du nombre de nouvelles éoliennes – Entreprises – Actualité – Trends.be\n",
      "++++++++++++++++++++\n",
      "Groen et Ecolo forment un groupe commun au Sénat: Les partis écologistes francophone et néerlandopho ... Belgique\n",
      "++++++++++++++++++++\n",
      "L'observatoire de la biodiversité du Nord - Pas de Calais: Conservatoire Botanique National... nouveautesducrid\n",
      "++++++++++++++++++++\n",
      "Zoo de Romagne : naissance en captivité d'un bébé bonobo: C'est une naissance rarissime : une petite femelle b ...\n",
      "++++++++++++++++++++\n",
      "Environnement ► Méditerranée : bientôt des éoliennes flottantes en mer !: D’ici 2015, deux pr ... ◄DevDurable\n",
      "++++++++++++++++++++\n",
      "RT_Baupin: Toute incitation à la haine est étrangère aux valeurs des écologistes\n",
      "++++++++++++++++++++\n",
      "\"intégrer le développement durable dans les phases de conception et fabrication\" EcoVerte FondamCNRS\n",
      "++++++++++++++++++++\n",
      "Royal: le président n'aime pas les pauvres? \"c'est n'importe quoi\"\n",
      "++++++++++++++++++++\n",
      "Une web série pour sensibiliser aux gestes écologiques en entreprise\n",
      "++++++++++++++++++++\n"
     ]
    }
   ],
   "source": [
    "import random \n",
    "l=random.choices(list(range(len(trainset))),k=40)\n",
    "for sentence in l :\n",
    "    print(trainset['text'][sentence])\n",
    "    print('++++++++++++++++++++')"
   ]
  },
  {
   "cell_type": "markdown",
   "metadata": {},
   "source": [
    "## Preprocessing "
   ]
  },
  {
   "cell_type": "code",
   "execution_count": 36,
   "metadata": {},
   "outputs": [],
   "source": [
    "def preprocess(x) :\n",
    "    return x.replace('  ','')\n",
    "\n",
    "trainset['text']= trainset['text'].apply(preprocess)"
   ]
  },
  {
   "cell_type": "markdown",
   "metadata": {},
   "source": [
    "## Prepare Loaders "
   ]
  },
  {
   "cell_type": "code",
   "execution_count": 39,
   "metadata": {},
   "outputs": [],
   "source": [
    "from collections import Counter\n",
    "\n",
    "all_sentences = list(trainset.text.values)\n",
    "all_text = ' '.join(all_sentences)\n",
    "# create a list of words\n",
    "words = all_text.split()# Count all the words using Counter Method\n",
    "count_words = Counter(words)\n",
    "\n",
    "total_words = len(words)\n",
    "sorted_words = count_words.most_common(total_words)"
   ]
  },
  {
   "cell_type": "markdown",
   "metadata": {},
   "source": [
    "### transformer les mots en indices "
   ]
  },
  {
   "cell_type": "code",
   "execution_count": 40,
   "metadata": {},
   "outputs": [],
   "source": [
    "vocab_to_int = {w:i+1 for i, (w,c) in enumerate(sorted_words)}\n",
    "\n",
    "## transform dataset to indexes \n",
    "sentences_indexes = []\n",
    "for sentence in all_sentences:\n",
    "    r = [vocab_to_int[w] for w in sentence.split()]\n",
    "    sentences_indexes.append(r)\n"
   ]
  },
  {
   "cell_type": "markdown",
   "metadata": {},
   "source": [
    "### Define padding function "
   ]
  },
  {
   "cell_type": "code",
   "execution_count": 41,
   "metadata": {},
   "outputs": [],
   "source": [
    "def pad_sentences(sentences_indexes) :\n",
    "    X_lengths = [len(sentence) for sentence in sentences_indexes] # create an empty matrix with padding tokens\n",
    "    longest_sent = max(X_lengths)\n",
    "    padded_X = np.zeros((len(sentences_indexes), longest_sent))  # copy over the actual sequences\n",
    "\n",
    "    for i, x_len in enumerate(X_lengths):\n",
    "        sequence = sentences_indexes[i]\n",
    "        padded_X[i, 0:x_len] = sequence[:x_len]# padded_X looks like:\n",
    "    return padded_X,np.asarray(X_lengths)\n"
   ]
  },
  {
   "cell_type": "code",
   "execution_count": 46,
   "metadata": {},
   "outputs": [
    {
     "data": {
      "text/plain": [
       "(7048, 28)"
      ]
     },
     "execution_count": 46,
     "metadata": {},
     "output_type": "execute_result"
    }
   ],
   "source": [
    "padded_x.shape"
   ]
  },
  {
   "cell_type": "code",
   "execution_count": 108,
   "metadata": {},
   "outputs": [],
   "source": [
    "padded_x , X_lengths =pad_sentences(sentences_indexes)\n",
    "labels=trainset.polarity.values\n",
    "\n",
    "## divide into train, validation \n",
    "\n",
    "split_frac = 0.2 # 80% train, 20% validation\n",
    "split_id = int(split_frac * len(padded_x))\n",
    "val_sentences, train_sentences = padded_x[:split_id], padded_x[split_id:]\n",
    "val_labels, train_labels = labels[:split_id], labels[split_id:]\n",
    "val_lengths,train_lengths = X_lengths[:split_id], X_lengths[split_id:]\n",
    "\n",
    "train_data = TensorDataset(torch.from_numpy(train_sentences), torch.from_numpy(train_lengths),torch.from_numpy(train_labels))\n",
    "val_data = TensorDataset(torch.from_numpy(val_sentences), torch.from_numpy(val_lengths),torch.from_numpy(val_labels) )\n",
    "#test_data = TensorDataset(torch.from_numpy(test_sentences), torch.from_numpy(test_labels))\n",
    "\n",
    "batch_size = 256\n",
    "\n",
    "train_loader = DataLoader(train_data, shuffle=True, batch_size=batch_size)\n",
    "val_loader = DataLoader(val_data, shuffle=True, batch_size=batch_size)\n",
    "#test_loader = DataLoader(test_data, shuffle=True, batch_size=batch_size)\n"
   ]
  },
  {
   "cell_type": "markdown",
   "metadata": {},
   "source": [
    "## define LSTM architecture "
   ]
  },
  {
   "cell_type": "code",
   "execution_count": 109,
   "metadata": {},
   "outputs": [],
   "source": [
    "class LSTM(torch.nn.Module):\n",
    "    \"\"\"\n",
    "    The class is an implementation of a bi-lstm class. \n",
    "    \"\"\"\n",
    "   \n",
    "    def __init__(self,vocab_size,embedding_dim,hidden_dim,output_size,n_layers):\n",
    "        \n",
    "        super(LSTM,self).__init__()\n",
    "        \n",
    "        self.embedding_dim  = embedding_dim\n",
    "        self.hidden_dim=hidden_dim\n",
    "        self.n_layers=n_layers\n",
    "        \n",
    "        self.embedding = nn.Embedding(num_embeddings=vocab_size, embedding_dim=embedding_dim, padding_idx=0)\n",
    "        self.lstm = torch.nn.LSTM(embedding_dim,hidden_dim,n_layers, bidirectional=True)\n",
    "        self.fc  = torch.nn.Linear(2*hidden_dim,output_size)\n",
    "    \n",
    "    def init_hidden(self,batch_size):\n",
    "        # the weights are of the form (nb_layers, batch_size, nb_lstm_units)\n",
    "        hidden_a = torch.randn(self.n_layers * 2, batch_size, self.hidden_dim)\n",
    "        hidden_b = torch.randn(self.n_layers * 2 , batch_size, self.hidden_dim)\n",
    "\n",
    "        hidden_a = Variable(hidden_a)\n",
    "        hidden_b = Variable(hidden_b)\n",
    "\n",
    "        return (hidden_a, hidden_b)\n",
    "        \n",
    "    def forward(self,padded_x,x_lengths):\n",
    "         \n",
    "        X = self.embedding(padded_x)\n",
    "        batch_size,length_sentence,_=X.size()\n",
    "        \n",
    "        self.hidden = self.init_hidden(batch_size)\n",
    "        embeddings = torch.nn.utils.rnn.pack_padded_sequence(X, x_lengths, batch_first=True,enforce_sorted=False)\n",
    "        \n",
    "        outputs, (h_n,c_n) = self.lstm(embeddings,self.hidden)\n",
    "        \n",
    "        #Unpack outputs (remove paddings)\n",
    "        outputs, _= torch.nn.utils.rnn.pad_packed_sequence(outputs, batch_first=True)\n",
    "        \n",
    "        h_n_per = h_n.permute(1,0,2)\n",
    "        \n",
    "        outputs_reshaped = h_n_per.reshape(h_n_per.shape[0],-1)\n",
    "        \n",
    "        #outputs.view(, outputs.shape[2])\n",
    "        \n",
    "        out=self.fc(outputs_reshaped)\n",
    "    \n",
    "        return out\n",
    "    "
   ]
  },
  {
   "cell_type": "markdown",
   "metadata": {},
   "source": [
    "## training "
   ]
  },
  {
   "cell_type": "code",
   "execution_count": 110,
   "metadata": {},
   "outputs": [],
   "source": [
    "### training parameters\n",
    "vocab_size = len(vocab_to_int) + 1\n",
    "output_size = 3\n",
    "embedding_dim = 400\n",
    "hidden_dim = 512\n",
    "n_layers = 1\n",
    "\n",
    "model = LSTM(vocab_size, embedding_dim,hidden_dim,output_size, n_layers)\n",
    "\n",
    "lr=0.01\n",
    "criterion = nn.CrossEntropyLoss()\n",
    "optimizer = torch.optim.Adam(model.parameters(), lr=lr)\n"
   ]
  },
  {
   "cell_type": "markdown",
   "metadata": {},
   "source": [
    "## define training function "
   ]
  },
  {
   "cell_type": "code",
   "execution_count": 112,
   "metadata": {},
   "outputs": [],
   "source": [
    "epochs = 2\n",
    "counter = 0\n",
    "print_every = 1000\n",
    "clip = 5\n",
    "valid_loss_min = np.Inf\n",
    "\n",
    "model.train()\n",
    "for i in range(epochs):    \n",
    "    for inputs, x_lengths, labels in train_loader:\n",
    "        counter += 1\n",
    "        #h = tuple([e.data for e in h])\n",
    "        #inputs, labels = inputs.to(device), labels.to(device)\n",
    "        model.zero_grad()\n",
    "        output = model(inputs.long(), x_lengths)\n",
    "        loss = criterion(output, labels)\n",
    "        loss.backward()\n",
    "        nn.utils.clip_grad_norm_(model.parameters(), clip)\n",
    "        optimizer.step()\n",
    "        if counter%print_every == 0:\n",
    "            #val_h = model.init_hidden(batch_size)\n",
    "            val_losses = []\n",
    "            model.eval()\n",
    "            for inp, x_length, labels in val_loader:\n",
    "                #val_h = tuple([each.data for each in val_h])\n",
    "                #inp, lab = inp.to(device), lab.to(device)\n",
    "                out = model(inp.long(), x_length)\n",
    "                val_loss = criterion(out, labels)\n",
    "                val_losses.append(val_loss.item())\n",
    "                \n",
    "            model.train()\n",
    "            print(\"Epoch: {}/{}...\".format(i+1, epochs),\n",
    "                  \"Step: {}...\".format(counter),\n",
    "                  \"Loss: {:.6f}...\".format(loss.item()),\n",
    "                  \"Val Loss: {:.6f}\".format(np.mean(val_losses)))\n",
    "            if np.mean(val_losses) <= valid_loss_min:\n",
    "                torch.save(model.state_dict(), './state_dict.pt')\n",
    "                print('Validation loss decreased ({:.6f} --> {:.6f}).  Saving model ...'.format(valid_loss_min,np.mean(val_losses)))\n",
    "                valid_loss_min = np.mean(val_losses)"
   ]
  },
  {
   "cell_type": "code",
   "execution_count": null,
   "metadata": {},
   "outputs": [],
   "source": []
  }
 ],
 "metadata": {
  "kernelspec": {
   "display_name": "Python 3",
   "language": "python",
   "name": "python3"
  },
  "language_info": {
   "codemirror_mode": {
    "name": "ipython",
    "version": 3
   },
   "file_extension": ".py",
   "mimetype": "text/x-python",
   "name": "python",
   "nbconvert_exporter": "python",
   "pygments_lexer": "ipython3",
   "version": "3.7.6"
  }
 },
 "nbformat": 4,
 "nbformat_minor": 4
}
