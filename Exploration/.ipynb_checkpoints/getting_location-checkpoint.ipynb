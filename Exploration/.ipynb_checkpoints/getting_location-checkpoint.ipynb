{
 "cells": [
  {
   "cell_type": "markdown",
   "metadata": {},
   "source": [
    "This notebook implements a method that uses twitter api in order to get users locations. Then we use geopy to transform the non structured locations to structured ones. "
   ]
  },
  {
   "cell_type": "code",
   "execution_count": 54,
   "metadata": {},
   "outputs": [],
   "source": [
    "from geopy.geocoders import Nominatim\n",
    "from tqdm.notebook import tqdm\n",
    "from geopy.extra.rate_limiter import RateLimiter\n",
    "import pickle\n",
    "import pandas as pd\n",
    "import tweepy \n"
   ]
  },
  {
   "cell_type": "markdown",
   "metadata": {},
   "source": [
    "## Load data "
   ]
  },
  {
   "cell_type": "code",
   "execution_count": null,
   "metadata": {},
   "outputs": [],
   "source": [
    "path='projects/filiere/saved_data/df_processed.pickle'\n",
    "\n",
    "df_tweets=pickle.load(open(path,'rb'))\n",
    "\n",
    "## Get the list of french usernames \n",
    "french_usernames=list(df_all[df_all.lang=='fr'].username.unique())"
   ]
  },
  {
   "cell_type": "markdown",
   "metadata": {},
   "source": [
    "## Load twitter API with tweepy "
   ]
  },
  {
   "cell_type": "code",
   "execution_count": null,
   "metadata": {},
   "outputs": [],
   "source": [
    "\n",
    "consumer_key = \"xxxxxxxxxxx\" \n",
    "consumer_secret = \"xxxxxxxxxxxxxxxxx\" \n",
    "access_token = \"xxxxxxxx\" \n",
    "access_token_secret = \"xxxxxxxxxxxxxxxxxxxxx\" \n",
    "\n",
    "# authorization of consumer key and consumer secret \n",
    "auth = tweepy.OAuthHandler(consumer_key, consumer_secret) \n",
    "  \n",
    "# set access to user's access key and access secret  \n",
    "auth.set_access_token(access_token, access_token_secret) \n",
    "  \n",
    "# calling the api  \n",
    "api = tweepy.API(auth) "
   ]
  },
  {
   "cell_type": "code",
   "execution_count": null,
   "metadata": {},
   "outputs": [],
   "source": [
    "### getting location\n",
    "def get_location(x):\n",
    "    \"\"\"\n",
    "    this function uses twitter API to get the user's location, by its screen name.\n",
    "    \"\"\"\n",
    "    user = api.get_user(screen_name = x)\n",
    "    return user.location\n",
    "\n",
    "tab_location=[]\n",
    "for k,username in enumerate(tqdm (wanted_username[7500:],total=len(wanted_username[7500:])),1) :\n",
    "    try : \n",
    "        tab_location+=[get_location(username)]\n",
    "    except : \n",
    "        tab_location+=[None]\n",
    "        continue\n",
    "    if k%50==0 :\n",
    "        with open('projects/filiere/saved_data/locations.pkl','wb') as pkl :\n",
    "            pickle.dump(tab_location,pkl)\n",
    "            \n",
    "with open('projects/filiere/saved_data/locations.pkl','wb') as pkl :\n",
    "            pickle.dump(tab_location,pkl)   "
   ]
  },
  {
   "cell_type": "markdown",
   "metadata": {},
   "source": [
    "## Get geolocalisation with geopy "
   ]
  },
  {
   "cell_type": "code",
   "execution_count": null,
   "metadata": {},
   "outputs": [],
   "source": [
    "\n",
    "geolocator = Nominatim(user_agent=\"etude_de_cas\")\n",
    "\n",
    "## define ratelimiter to avoid the saturation of the API . \n",
    "geocode = RateLimiter(geolocator.geocode, min_delay_seconds=1)\n",
    "\n",
    "def get_adress(loc):\n",
    "    \"\"\"\n",
    "    Get adress with geopy.\n",
    "    \"\"\"\n",
    "    location = geocode(loc)\n",
    "    return location.address\n",
    "\n",
    "\n",
    "\n",
    "tab_adress=[]\n",
    "for k,loc in enumerate(tqdm(tab_locs,total=len(tab_locs)),1) :\n",
    "    tab_adress+=[get_adress(loc)]\n",
    "    if k%50==0 :\n",
    "        with open('projects/filiere/saved_data/adress.pkl','wb') as pkl : ## save adresses\n",
    "            pickle.dump(tab_adress,pkl)\n",
    "if k%50==0 :\n",
    "        with open('projects/filiere/saved_data/adress.pkl','wb') as pkl :\n",
    "            pickle.dump(tab_adress,pkl)            \n",
    "            "
   ]
  },
  {
   "cell_type": "code",
   "execution_count": null,
   "metadata": {},
   "outputs": [],
   "source": []
  },
  {
   "cell_type": "code",
   "execution_count": 10,
   "metadata": {},
   "outputs": [],
   "source": [
    "import pickle\n",
    "tab_texts=pickle.load(open('/home/hamza/projects/filiere/saved_data/text_sent.pkl','rb'))\n",
    "tab_texts_bis=pickle.load(open('/home/hamza/projects/filiere/saved_data/text_sent_bis.pkl','rb'))\n",
    "tab_texts_three=pickle.load(open('/home/hamza/projects/filiere/saved_data/text_sent_three.pkl','rb'))"
   ]
  },
  {
   "cell_type": "code",
   "execution_count": 13,
   "metadata": {},
   "outputs": [],
   "source": [
    "texts_all=tab_texts[:2555]+tab_texts_bis+tab_texts_three\n",
    "#pickle.dump(texts_all,open('/home/hamza/projects/filiere/saved_data/text_sent_all.pkl','wb'))"
   ]
  },
  {
   "cell_type": "code",
   "execution_count": 12,
   "metadata": {},
   "outputs": [
    {
     "data": {
      "text/plain": [
       "7927"
      ]
     },
     "execution_count": 12,
     "metadata": {},
     "output_type": "execute_result"
    }
   ],
   "source": [
    "len(texts_all)"
   ]
  },
  {
   "cell_type": "code",
   "execution_count": 14,
   "metadata": {},
   "outputs": [
    {
     "data": {
      "text/plain": [
       "0.2627515504366536"
      ]
     },
     "execution_count": 14,
     "metadata": {},
     "output_type": "execute_result"
    }
   ],
   "source": [
    "s=0\n",
    "ind=[]\n",
    "for k,el in enumerate(texts_all) :\n",
    "    if el==None :\n",
    "        ind.append(el)\n",
    "        s+=1\n",
    "s/len(tab_val)"
   ]
  },
  {
   "cell_type": "code",
   "execution_count": 7,
   "metadata": {},
   "outputs": [
    {
     "data": {
      "text/plain": [
       "'Un avion propulsé uniquement avec des énergies alternatives pour faire le tour de la Terre C.Michel #FondamCNRS #MateriauxInnov'"
      ]
     },
     "execution_count": 7,
     "metadata": {},
     "output_type": "execute_result"
    }
   ],
   "source": [
    "texts_all[-1]"
   ]
  },
  {
   "cell_type": "code",
   "execution_count": 69,
   "metadata": {},
   "outputs": [],
   "source": [
    "path='/home/hamza/projects/filiere/etude_de_cas/labelled_train_data.csv'\n",
    "df_sent=pd.read_csv(path)"
   ]
  }
 ],
 "metadata": {
  "kernelspec": {
   "display_name": "Python 3",
   "language": "python",
   "name": "python3"
  },
  "language_info": {
   "codemirror_mode": {
    "name": "ipython",
    "version": 3
   },
   "file_extension": ".py",
   "mimetype": "text/x-python",
   "name": "python",
   "nbconvert_exporter": "python",
   "pygments_lexer": "ipython3",
   "version": "3.6.9"
  }
 },
 "nbformat": 4,
 "nbformat_minor": 4
}
