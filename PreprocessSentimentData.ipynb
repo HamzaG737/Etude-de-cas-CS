{
 "cells": [
  {
   "cell_type": "code",
   "execution_count": 1,
   "metadata": {},
   "outputs": [],
   "source": [
    "import pandas as pd\n",
    "import tweepy\n",
    "from tqdm.notebook import tqdm\n",
    "import pickle"
   ]
  },
  {
   "cell_type": "markdown",
   "metadata": {},
   "source": [
    "## Load data "
   ]
  },
  {
   "cell_type": "code",
   "execution_count": 2,
   "metadata": {},
   "outputs": [],
   "source": [
    "path_train='labelled_train_data.csv'\n",
    "df_train=pd.read_csv(path_train)\n",
    "\n",
    "path_test='labelled_test_data.csv'\n",
    "df_test=pd.read_csv(path_test)\n"
   ]
  },
  {
   "cell_type": "markdown",
   "metadata": {},
   "source": [
    "## Get tweets by id "
   ]
  },
  {
   "cell_type": "code",
   "execution_count": 3,
   "metadata": {},
   "outputs": [],
   "source": [
    "## define twitter API \n",
    "\n",
    "consumer_key = \"xxxxxxxx\" \n",
    "consumer_secret = \"xxxxxxxxxx\" \n",
    "access_token = \"xxxxxxxxxxxxxxxxx\" \n",
    "access_token_secret = \"xxxxxxxx\" \n",
    "\n",
    "# authorization of consumer key and consumer secret \n",
    "auth = tweepy.OAuthHandler(consumer_key, consumer_secret) \n",
    "\n",
    "# set access to user's access key and access secret  \n",
    "auth.set_access_token(access_token, access_token_secret) \n",
    "  \n",
    "# calling the api  \n",
    "api = tweepy.API(auth,wait_on_rate_limit=True,wait_on_rate_limit_notify=True) "
   ]
  },
  {
   "cell_type": "code",
   "execution_count": 8,
   "metadata": {},
   "outputs": [
    {
     "data": {
      "application/vnd.jupyter.widget-view+json": {
       "model_id": "82a3685bcc0647efb377524ea3a5d758",
       "version_major": 2,
       "version_minor": 0
      },
      "text/plain": [
       "HBox(children=(FloatProgress(value=0.0, max=3377.0), HTML(value='')))"
      ]
     },
     "metadata": {},
     "output_type": "display_data"
    },
    {
     "name": "stderr",
     "output_type": "stream",
     "text": [
      "Rate limit reached. Sleeping for: 301\n",
      "Rate limit reached. Sleeping for: 657\n",
      "Rate limit reached. Sleeping for: 663\n"
     ]
    },
    {
     "name": "stdout",
     "output_type": "stream",
     "text": [
      "\n"
     ]
    }
   ],
   "source": [
    "def get_text(id_):\n",
    "    try :\n",
    "        tweet=api.get_status(id_)\n",
    "        return tweet.text\n",
    "    except :\n",
    "        return None\n",
    "\n",
    "tab_texts=[]\n",
    "for index,rows in tqdm(df_test.iterrows(),total=len(df_test)) :\n",
    "    tab_texts.append(get_text(rows['id']))\n",
    "    if index%100==0 :\n",
    "        with open('/home/hamza/projects/filiere/saved_data/text_sent_test.pkl','wb') as pkl :\n",
    "            pickle.dump(tab_texts,pkl)\n",
    "with open('/home/hamza/projects/filiere/saved_data/text_sent_test.pkl','wb') as pkl :\n",
    "            pickle.dump(tab_texts,pkl)"
   ]
  },
  {
   "cell_type": "markdown",
   "metadata": {},
   "source": [
    "## add to csv and remove Nones "
   ]
  },
  {
   "cell_type": "code",
   "execution_count": 3,
   "metadata": {},
   "outputs": [],
   "source": [
    "tab_texts_train=pickle.load(open('/home/hamza/projects/filiere/saved_data/text_sent_all.pkl','rb'))\n",
    "tab_texts_test=pickle.load(open('/home/hamza/projects/filiere/saved_data/text_sent_test.pkl','rb'))\n",
    "\n",
    "df_train['text']=tab_texts_train\n",
    "df_test['text']=tab_texts_test\n",
    "\n",
    "# Merge\n",
    "\n",
    "df_all=pd.concat([df_train,df_test], ignore_index=True)\n",
    "#print(len(df_all))\n",
    "df_all.dropna(subset=['text'], inplace=True)\n",
    "\n",
    "## categorize polarity \n",
    "df_all.polarity=pd.Categorical(df_all.polarity)\n",
    "df_all.rename(columns={'polarity':'pol_symbol'},inplace=True)\n",
    "\n",
    "dict_map={'=':2,'-':0,'+':1}\n",
    "df_all['polarity']=df_all.pol_symbol.map(dict_map)\n",
    "del df_all['Unnamed: 0']"
   ]
  },
  {
   "cell_type": "markdown",
   "metadata": {},
   "source": [
    "## Preprocess and clean "
   ]
  },
  {
   "cell_type": "code",
   "execution_count": 5,
   "metadata": {},
   "outputs": [],
   "source": [
    "from utils import clean \n",
    "df_all['text']=df_all.text.apply(lambda x:clean.clean(x))\n"
   ]
  },
  {
   "cell_type": "code",
   "execution_count": 7,
   "metadata": {},
   "outputs": [],
   "source": [
    "### separate train test \n",
    "from sklearn.model_selection import train_test_split\n",
    "\n",
    "trainset, testset = train_test_split(df_all, test_size=0.2)"
   ]
  },
  {
   "cell_type": "code",
   "execution_count": 12,
   "metadata": {},
   "outputs": [
    {
     "data": {
      "text/html": [
       "<div>\n",
       "<style scoped>\n",
       "    .dataframe tbody tr th:only-of-type {\n",
       "        vertical-align: middle;\n",
       "    }\n",
       "\n",
       "    .dataframe tbody tr th {\n",
       "        vertical-align: top;\n",
       "    }\n",
       "\n",
       "    .dataframe thead th {\n",
       "        text-align: right;\n",
       "    }\n",
       "</style>\n",
       "<table border=\"1\" class=\"dataframe\">\n",
       "  <thead>\n",
       "    <tr style=\"text-align: right;\">\n",
       "      <th></th>\n",
       "      <th>id</th>\n",
       "      <th>pol_symbol</th>\n",
       "      <th>nature</th>\n",
       "      <th>emotion</th>\n",
       "      <th>text</th>\n",
       "      <th>polarity</th>\n",
       "    </tr>\n",
       "  </thead>\n",
       "  <tbody>\n",
       "    <tr>\n",
       "      <th>0</th>\n",
       "      <td>487830913032519681</td>\n",
       "      <td>=</td>\n",
       "      <td>INFORMATION</td>\n",
       "      <td>NaN</td>\n",
       "      <td>Et pendant ce temps la elles tournent  via</td>\n",
       "      <td>2</td>\n",
       "    </tr>\n",
       "    <tr>\n",
       "      <th>1</th>\n",
       "      <td>505675738155347968</td>\n",
       "      <td>=</td>\n",
       "      <td>INFORMATION</td>\n",
       "      <td>NaN</td>\n",
       "      <td>.    vous oubliez l  '  abbé Pierre responsabl...</td>\n",
       "      <td>2</td>\n",
       "    </tr>\n",
       "    <tr>\n",
       "      <th>2</th>\n",
       "      <td>519392800002297857</td>\n",
       "      <td>+</td>\n",
       "      <td>OPINION</td>\n",
       "      <td>VALORISATION</td>\n",
       "      <td>[  LoiRoyal  ]   le solaire  :   l  '  énergie...</td>\n",
       "      <td>1</td>\n",
       "    </tr>\n",
       "    <tr>\n",
       "      <th>3</th>\n",
       "      <td>506828044732878848</td>\n",
       "      <td>=</td>\n",
       "      <td>INFORMATION</td>\n",
       "      <td>NaN</td>\n",
       "      <td>คันหู วาเลนไทน์ 2010  :    via  OUI , le récha...</td>\n",
       "      <td>2</td>\n",
       "    </tr>\n",
       "    <tr>\n",
       "      <th>4</th>\n",
       "      <td>488949864600829953</td>\n",
       "      <td>=</td>\n",
       "      <td>INFORMATION</td>\n",
       "      <td>NaN</td>\n",
       "      <td>Correze - MAISON A OSSATURE BOIS ECOLOGIQUE  :...</td>\n",
       "      <td>2</td>\n",
       "    </tr>\n",
       "    <tr>\n",
       "      <th>...</th>\n",
       "      <td>...</td>\n",
       "      <td>...</td>\n",
       "      <td>...</td>\n",
       "      <td>...</td>\n",
       "      <td>...</td>\n",
       "      <td>...</td>\n",
       "    </tr>\n",
       "    <tr>\n",
       "      <th>7043</th>\n",
       "      <td>520252139172810753</td>\n",
       "      <td>+</td>\n",
       "      <td>OPINION</td>\n",
       "      <td>VALORISATION</td>\n",
       "      <td>Et une très bonne nouvelle pour les Français p...</td>\n",
       "      <td>1</td>\n",
       "    </tr>\n",
       "    <tr>\n",
       "      <th>7044</th>\n",
       "      <td>489438791703470080</td>\n",
       "      <td>-</td>\n",
       "      <td>SENTIMENT</td>\n",
       "      <td>NaN</td>\n",
       "      <td>Biodiversité et climat  :   Deux crises qui gl...</td>\n",
       "      <td>0</td>\n",
       "    </tr>\n",
       "    <tr>\n",
       "      <th>7045</th>\n",
       "      <td>507083059359789056</td>\n",
       "      <td>=</td>\n",
       "      <td>INFORMATION</td>\n",
       "      <td>NaN</td>\n",
       "      <td>ecologie « La Constellation du chien », roman ...</td>\n",
       "      <td>2</td>\n",
       "    </tr>\n",
       "    <tr>\n",
       "      <th>7046</th>\n",
       "      <td>518726125501956096</td>\n",
       "      <td>=</td>\n",
       "      <td>INFORMATION</td>\n",
       "      <td>NaN</td>\n",
       "      <td>Manif pour tous   :   le sénateur écologiste J...</td>\n",
       "      <td>2</td>\n",
       "    </tr>\n",
       "    <tr>\n",
       "      <th>7047</th>\n",
       "      <td>487503555167649793</td>\n",
       "      <td>=</td>\n",
       "      <td>INFORMATION</td>\n",
       "      <td>NaN</td>\n",
       "      <td>SaintBrieuc  .   Soixante-deux  éoliennes  off...</td>\n",
       "      <td>2</td>\n",
       "    </tr>\n",
       "  </tbody>\n",
       "</table>\n",
       "<p>7048 rows × 6 columns</p>\n",
       "</div>"
      ],
      "text/plain": [
       "                      id pol_symbol       nature       emotion  \\\n",
       "0     487830913032519681          =  INFORMATION           NaN   \n",
       "1     505675738155347968          =  INFORMATION           NaN   \n",
       "2     519392800002297857          +      OPINION  VALORISATION   \n",
       "3     506828044732878848          =  INFORMATION           NaN   \n",
       "4     488949864600829953          =  INFORMATION           NaN   \n",
       "...                  ...        ...          ...           ...   \n",
       "7043  520252139172810753          +      OPINION  VALORISATION   \n",
       "7044  489438791703470080          -    SENTIMENT           NaN   \n",
       "7045  507083059359789056          =  INFORMATION           NaN   \n",
       "7046  518726125501956096          =  INFORMATION           NaN   \n",
       "7047  487503555167649793          =  INFORMATION           NaN   \n",
       "\n",
       "                                                   text polarity  \n",
       "0            Et pendant ce temps la elles tournent  via        2  \n",
       "1     .    vous oubliez l  '  abbé Pierre responsabl...        2  \n",
       "2     [  LoiRoyal  ]   le solaire  :   l  '  énergie...        1  \n",
       "3     คันหู วาเลนไทน์ 2010  :    via  OUI , le récha...        2  \n",
       "4     Correze - MAISON A OSSATURE BOIS ECOLOGIQUE  :...        2  \n",
       "...                                                 ...      ...  \n",
       "7043  Et une très bonne nouvelle pour les Français p...        1  \n",
       "7044  Biodiversité et climat  :   Deux crises qui gl...        0  \n",
       "7045  ecologie « La Constellation du chien », roman ...        2  \n",
       "7046  Manif pour tous   :   le sénateur écologiste J...        2  \n",
       "7047  SaintBrieuc  .   Soixante-deux  éoliennes  off...        2  \n",
       "\n",
       "[7048 rows x 6 columns]"
      ]
     },
     "execution_count": 12,
     "metadata": {},
     "output_type": "execute_result"
    }
   ],
   "source": [
    "trainset"
   ]
  },
  {
   "cell_type": "code",
   "execution_count": 10,
   "metadata": {},
   "outputs": [],
   "source": [
    "trainset.reset_index(inplace=True,drop=True)\n",
    "testset.reset_index(inplace=True,drop=True)\n",
    "\n",
    "trainset.to_csv('/home/hamza/projects/filiere/etude_de_cas/data/trainset_sent.csv',index=False)\n",
    "testset.to_csv('/home/hamza/projects/filiere/etude_de_cas/data/testset_sent.csv',index=False)"
   ]
  }
 ],
 "metadata": {
  "kernelspec": {
   "display_name": "Python 3",
   "language": "python",
   "name": "python3"
  },
  "language_info": {
   "codemirror_mode": {
    "name": "ipython",
    "version": 3
   },
   "file_extension": ".py",
   "mimetype": "text/x-python",
   "name": "python",
   "nbconvert_exporter": "python",
   "pygments_lexer": "ipython3",
   "version": "3.6.9"
  }
 },
 "nbformat": 4,
 "nbformat_minor": 4
}
